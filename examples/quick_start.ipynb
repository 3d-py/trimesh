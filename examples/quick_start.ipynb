{
 "cells": [
  {
   "cell_type": "code",
   "execution_count": 1,
   "metadata": {
    "collapsed": false
   },
   "outputs": [],
   "source": [
    "import numpy as np\n",
    "import trimesh"
   ]
  },
  {
   "cell_type": "code",
   "execution_count": 2,
   "metadata": {
    "collapsed": false
   },
   "outputs": [],
   "source": [
    "# load a file by name or from a buffer\n",
    "mesh = trimesh.load_mesh('../models/featuretype.STL')"
   ]
  },
  {
   "cell_type": "code",
   "execution_count": 3,
   "metadata": {
    "collapsed": false
   },
   "outputs": [
    {
     "data": {
      "text/plain": [
       "True"
      ]
     },
     "execution_count": 3,
     "metadata": {},
     "output_type": "execute_result"
    }
   ],
   "source": [
    "# is the current mesh watertight?\n",
    "mesh.is_watertight"
   ]
  },
  {
   "cell_type": "code",
   "execution_count": 4,
   "metadata": {
    "collapsed": false
   },
   "outputs": [
    {
     "data": {
      "text/plain": [
       "-16"
      ]
     },
     "execution_count": 4,
     "metadata": {},
     "output_type": "execute_result"
    }
   ],
   "source": [
    "# what's the euler number for the mesh?\n",
    "mesh.euler_number"
   ]
  },
  {
   "cell_type": "code",
   "execution_count": 5,
   "metadata": {
    "collapsed": false
   },
   "outputs": [
    {
     "data": {
      "text/plain": [
       "0.77924077444669315"
      ]
     },
     "execution_count": 5,
     "metadata": {},
     "output_type": "execute_result"
    }
   ],
   "source": [
    "# the convex hull is another Trimesh object that is available as a property\n",
    "# lets compare the volume of our mesh with the volume of its convex hull\n",
    "np.divide(mesh.volume, mesh.convex_hull.volume)"
   ]
  },
  {
   "cell_type": "code",
   "execution_count": 6,
   "metadata": {
    "collapsed": true
   },
   "outputs": [],
   "source": [
    "# since the mesh is watertight, it means there is a\n",
    "# volumetric center of mass which we can set as the origin for our mesh\n",
    "mesh.vertices -= mesh.center_mass"
   ]
  },
  {
   "cell_type": "code",
   "execution_count": 7,
   "metadata": {
    "collapsed": false
   },
   "outputs": [
    {
     "data": {
      "text/plain": [
       "array([[  6.93059627e+00,   1.43877613e-03,   1.49424850e-01],\n",
       "       [  1.43877613e-03,   2.19191960e+01,   1.25194047e-04],\n",
       "       [  1.49424850e-01,   1.25194047e-04,   2.62344872e+01]])"
      ]
     },
     "execution_count": 7,
     "metadata": {},
     "output_type": "execute_result"
    }
   ],
   "source": [
    "# what's the moment of inertia for the mesh?\n",
    "mesh.moment_inertia"
   ]
  },
  {
   "cell_type": "code",
   "execution_count": 8,
   "metadata": {
    "collapsed": false
   },
   "outputs": [
    {
     "data": {
      "text/plain": [
       "array([<trimesh.base.Trimesh object at 0x7ff31ce098d0>], dtype=object)"
      ]
     },
     "execution_count": 8,
     "metadata": {},
     "output_type": "execute_result"
    }
   ],
   "source": [
    "# if there are multiple bodies in the mesh we can split the mesh by\n",
    "# connected components of face adjacency\n",
    "# since this example mesh is a single watertight body we get a list of one mesh\n",
    "mesh.split()"
   ]
  },
  {
   "cell_type": "code",
   "execution_count": 9,
   "metadata": {
    "collapsed": true
   },
   "outputs": [],
   "source": [
    "# find groups of coplanar adjacent faces\n",
    "facets, facets_area = mesh.facets(return_area=True)"
   ]
  },
  {
   "cell_type": "code",
   "execution_count": 10,
   "metadata": {
    "collapsed": true
   },
   "outputs": [],
   "source": [
    "# set each facet to a random color\n",
    "# colors are 8 bit RGBA by default (n,4) np.uint8\n",
    "for facet in facets:\n",
    "    mesh.visual.face_colors[facet] = trimesh.visual.random_color()"
   ]
  },
  {
   "cell_type": "code",
   "execution_count": 11,
   "metadata": {
    "collapsed": false
   },
   "outputs": [
    {
     "data": {
      "text/plain": [
       "<trimesh.scene.scene.Scene instance at 0x7ff31c54d878>"
      ]
     },
     "execution_count": 11,
     "metadata": {},
     "output_type": "execute_result"
    }
   ],
   "source": [
    "# preview mesh in an opengl window if you installed pyglet with pip\n",
    "mesh.show()"
   ]
  },
  {
   "cell_type": "code",
   "execution_count": 12,
   "metadata": {
    "collapsed": false
   },
   "outputs": [
    {
     "data": {
      "text/plain": [
       "<trimesh.base.Trimesh at 0x7ff339cf5cd0>"
      ]
     },
     "execution_count": 12,
     "metadata": {},
     "output_type": "execute_result"
    }
   ],
   "source": [
    "# transform method can be passed a (4,4) matrix and will cleanly apply the transform\n",
    "mesh.transform(trimesh.transformations.random_rotation_matrix())"
   ]
  },
  {
   "cell_type": "code",
   "execution_count": 13,
   "metadata": {
    "collapsed": false
   },
   "outputs": [
    {
     "data": {
      "text/plain": [
       "TrackedArray([ 1.375,  2.5  ,  5.   ])"
      ]
     },
     "execution_count": 13,
     "metadata": {},
     "output_type": "execute_result"
    }
   ],
   "source": [
    "# a minimum volume oriented bounding box is available\n",
    "mesh.bounding_box_oriented.box_extents"
   ]
  },
  {
   "cell_type": "code",
   "execution_count": 14,
   "metadata": {
    "collapsed": false
   },
   "outputs": [
    {
     "data": {
      "text/plain": [
       "TrackedArray([[-0.0998413 , -0.7029685 ,  0.70417825,  0.01983568],\n",
       "       [-0.90318194,  0.36097254,  0.23229553,  0.13088361],\n",
       "       [-0.41748545, -0.61280839, -0.67094842,  0.05444336],\n",
       "       [ 0.        ,  0.        ,  0.        ,  1.        ]])"
      ]
     },
     "execution_count": 14,
     "metadata": {},
     "output_type": "execute_result"
    }
   ],
   "source": [
    "mesh.bounding_box_oriented.box_transform"
   ]
  },
  {
   "cell_type": "code",
   "execution_count": 15,
   "metadata": {
    "collapsed": false
   },
   "outputs": [
    {
     "data": {
      "text/plain": [
       "<trimesh.scene.scene.Scene instance at 0x7ff3007a3878>"
      ]
     },
     "execution_count": 15,
     "metadata": {},
     "output_type": "execute_result"
    }
   ],
   "source": [
    "# show the mesh overlayed with its oriented bounding box\n",
    "# the bounding box is a trimesh.primitives.Box object, which subclasses\n",
    "# Trimesh and lazily evaluates to fill in vertices and faces when requested\n",
    "# (press w in viewer to see triangles)\n",
    "(mesh + mesh.bounding_box_oriented).show()"
   ]
  }
 ],
 "metadata": {
  "kernelspec": {
   "display_name": "Python 2",
   "language": "python",
   "name": "python2"
  },
  "language_info": {
   "codemirror_mode": {
    "name": "ipython",
    "version": 2
   },
   "file_extension": ".py",
   "mimetype": "text/x-python",
   "name": "python",
   "nbconvert_exporter": "python",
   "pygments_lexer": "ipython2",
   "version": "2.7.6"
  }
 },
 "nbformat": 4,
 "nbformat_minor": 0
}
