{
 "cells": [
  {
   "cell_type": "code",
   "execution_count": 1,
   "metadata": {
    "collapsed": false
   },
   "outputs": [],
   "source": [
    "'''\n",
    "An example showing nearest point queries, \n",
    "primitive volume sampling, oriented bounding boxes, \n",
    "and using PointCloud objects for visualization\n",
    "'''\n",
    "import trimesh \n",
    "import numpy as np"
   ]
  },
  {
   "cell_type": "code",
   "execution_count": 2,
   "metadata": {
    "collapsed": false
   },
   "outputs": [],
   "source": [
    "# load a large- ish PLY model with colors    \n",
    "mesh = trimesh.load('../models/cycloidal.ply')   "
   ]
  },
  {
   "cell_type": "code",
   "execution_count": 3,
   "metadata": {
    "collapsed": true
   },
   "outputs": [],
   "source": [
    "# we can sample the volume of Box primitives\n",
    "points = mesh.bounding_box_oriented.sample_volume(count=10)"
   ]
  },
  {
   "cell_type": "code",
   "execution_count": 4,
   "metadata": {
    "collapsed": false
   },
   "outputs": [
    {
     "name": "stdout",
     "output_type": "stream",
     "text": [
      "Distance from point to surface of mesh:\n",
      "[ 0.05745401  0.16336094  0.03015899  0.00411616  0.26890145  0.05888971\n",
      "  0.03977633  0.01907153  0.0475863   0.07438896]\n"
     ]
    }
   ],
   "source": [
    "# find the closest point on the mesh to each random point\n",
    "(closest_points,\n",
    " distances,\n",
    " triangle_id) = mesh.nearest.on_surface(points)\n",
    "print('Distance from point to surface of mesh:\\n{}'.format(distances))"
   ]
  },
  {
   "cell_type": "code",
   "execution_count": 5,
   "metadata": {
    "collapsed": true
   },
   "outputs": [],
   "source": [
    "# create a PointCloud object out of each (n,3) list of points\n",
    "cloud_original = trimesh.points.PointCloud(points)\n",
    "cloud_close    = trimesh.points.PointCloud(closest_points)\n",
    "\n",
    "# create a unique color for each point\n",
    "cloud_colors = np.array([trimesh.visual.random_color() for i in points])\n",
    "\n",
    "# set the colors on the random point and its nearest point to be the same\n",
    "cloud_original.vertices_color = cloud_colors\n",
    "cloud_close.vertices_color    = cloud_colors\n",
    "\n",
    "# create a scene containing the mesh and two sets of points\n",
    "scene = trimesh.Scene([mesh,\n",
    "                       cloud_original,\n",
    "                       cloud_close])\n",
    "\n",
    "# show the scene wusing \n",
    "scene.show()"
   ]
  }
 ],
 "metadata": {
  "kernelspec": {
   "display_name": "Python 3",
   "language": "python",
   "name": "python3"
  },
  "language_info": {
   "codemirror_mode": {
    "name": "ipython",
    "version": 3
   },
   "file_extension": ".py",
   "mimetype": "text/x-python",
   "name": "python",
   "nbconvert_exporter": "python",
   "pygments_lexer": "ipython3",
   "version": "3.5.2"
  }
 },
 "nbformat": 4,
 "nbformat_minor": 2
}
